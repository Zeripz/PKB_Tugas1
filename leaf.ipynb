{
 "cells": [
  {
   "cell_type": "code",
   "execution_count": 2,
   "metadata": {},
   "outputs": [],
   "source": [
    "import pandas as pd\n",
    "import numpy as np\n",
    "\n",
    "df = pd.read_csv('leaves.csv')"
   ]
  },
  {
   "cell_type": "code",
   "execution_count": 16,
   "metadata": {},
   "outputs": [
    {
     "name": "stdout",
     "output_type": "stream",
     "text": [
      "q1:  14.4\n",
      "q2:  16.195\n",
      "q3:  18.98\n"
     ]
    }
   ],
   "source": [
    "area_list = []\n",
    "width_list = []\n",
    "length_list = []\n",
    "checkw = df['width'].isnull().values.any()\n",
    "checkl = df['length'].isnull().values.any()\n",
    "\n",
    "if 'width' in df.columns and 'length' in df.columns:\n",
    "    df['area'] = df['width'] * df['length']\n",
    "    for i, row in df.iterrows():\n",
    "        area_list.append(df['area'][i])\n",
    "\n",
    "    condition = np.median(area_list)\n",
    "\n",
    "    q1 = np.percentile(area_list, 25)\n",
    "    q2 = np.percentile(area_list, 50)\n",
    "    q3 = np.percentile(area_list, 75)\n",
    "    print('q1: ', q1)\n",
    "    print('q2: ', q2)\n",
    "    print('q3: ', q3)\n",
    "\n",
    "else:\n",
    "    for i,row in df.iterrows():\n",
    "        if checkw == True:\n",
    "            width_list.append(df['width'][i])\n",
    "        elif checkl == True:\n",
    "            length_list.append(df['length'][i])\n",
    "\n",
    "    if checkw == True:\n",
    "        conditionw = np.median(width_list)\n",
    "        q1 = np.percentile(width_list, 25)\n",
    "        q2 = np.percentile(width_list, 50)\n",
    "        q3 = np.percentile(width_list, 75)\n",
    "    \n",
    "    if checkl == True:\n",
    "        conditionl = np.median(length_list)\n",
    "        q1 = np.percentile(length_list, 25)\n",
    "        q2 = np.percentile(length_list, 50)\n",
    "        q3 = np.percentile(length_list, 75)\n",
    "\n",
    "    print('q1: ', q1)\n",
    "    print('q2: ', q2)\n",
    "    print('q3: ', q3)"
   ]
  },
  {
   "cell_type": "code",
   "execution_count": 15,
   "metadata": {},
   "outputs": [
    {
     "name": "stdout",
     "output_type": "stream",
     "text": [
      "Tabel jika belum dimasukan spesifikasi untuk medium sized leaves\n",
      "\n",
      "   width  length   area  big leaf  small leaf\n",
      "0    2.7     4.9  13.23     False        True\n",
      "1    3.2     5.5  17.60      True       False\n",
      "2    2.9     5.1  14.79     False        True\n",
      "3    3.4     6.8  23.12      True       False\n"
     ]
    }
   ],
   "source": [
    "df['big leaf'] = df['area'] >= condition\n",
    "df['small leaf'] = df['area'] <= condition\n",
    "print(\"Tabel jika belum dimasukan spesifikasi untuk medium sized leaves\\n\")\n",
    "if 'medium leaf' in df:\n",
    "    print(df.drop(\"medium leaf\", axis=1))\n",
    "else :\n",
    "    print(df)"
   ]
  },
  {
   "cell_type": "code",
   "execution_count": null,
   "metadata": {},
   "outputs": [
    {
     "name": "stdout",
     "output_type": "stream",
     "text": [
      "Tabel jika sudah dimasukan spesifikasi untuk medium sized leaves\n",
      "\n",
      "   width  length   area  big leaf  small leaf  medium leaf\n",
      "0    2.7     4.9  13.23     False        True        False\n",
      "1    3.2     5.5  17.60     False       False         True\n",
      "2    2.9     5.1  14.79     False       False         True\n",
      "3    3.4     6.8  23.12      True       False        False\n"
     ]
    }
   ],
   "source": [
    "df['big leaf'] = df['area'] >= q3\n",
    "df['medium leaf'] = (df['area'] > q1) & (df['area'] < q3)\n",
    "df['small leaf'] = df['area'] <= q1\n",
    "\n",
    "print(\"Tabel jika sudah dimasukan spesifikasi untuk medium sized leaves\\n\")\n",
    "print(df)"
   ]
  }
 ],
 "metadata": {
  "kernelspec": {
   "display_name": "Python 3",
   "language": "python",
   "name": "python3"
  },
  "language_info": {
   "codemirror_mode": {
    "name": "ipython",
    "version": 3
   },
   "file_extension": ".py",
   "mimetype": "text/x-python",
   "name": "python",
   "nbconvert_exporter": "python",
   "pygments_lexer": "ipython3",
   "version": "3.10.7"
  },
  "orig_nbformat": 4
 },
 "nbformat": 4,
 "nbformat_minor": 2
}
